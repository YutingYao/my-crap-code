{
 "cells": [
  {
   "cell_type": "code",
   "execution_count": 2,
   "metadata": {
    "ExecuteTime": {
     "end_time": "2021-03-19T01:42:34.793950Z",
     "start_time": "2021-03-19T01:42:34.786973Z"
    }
   },
   "outputs": [],
   "source": [
    "\n",
    "\n",
    "# This is lzl's snippet for diploma project\n",
    "import math\n",
    "import os,shutil\n",
    "import random\n",
    "import warnings\n",
    "import gc\n",
    "\n",
    "import geopandas as gpd\n",
    "import matplotlib as mpl\n",
    "import matplotlib.pyplot as plt\n",
    "import numpy as np\n",
    "import pandas as pd\n",
    "import shapely\n",
    "import seaborn as sns\n",
    "from shapely.geometry import LineString, Point, Polygon\n",
    "from shapely.wkt import dumps, loads\n",
    "from tqdm import tqdm\n",
    "\n",
    "import traProject as tp\n",
    "from traProject.analysisFuns import statisticFuns as sfuns\n",
    "from traProject.basicFuns import CalFuns as cfun,VisFuns as vfun,DataProcessingFuns as dfun\n",
    "from traProject.classificationFuns import models\n",
    "import traProject.utils as tu\n",
    "\n",
    "random.seed(1229)\n",
    "\n",
    "plt.style.use('seaborn')\n",
    "plt.rcParams['font.sans-serif'] = ['SimHei']  # 用来正常显示中文标签\n",
    "plt.rcParams['axes.unicode_minus'] = False  # 用来正常显示负号\n",
    "\n",
    "warnings.filterwarnings(\"ignore\")\n",
    "\n"
   ]
  },
  {
   "cell_type": "markdown",
   "metadata": {},
   "source": [
    "# 属性拼接"
   ]
  },
  {
   "cell_type": "code",
   "execution_count": null,
   "metadata": {},
   "outputs": [],
   "source": [
    "hwpath=''#hw轨迹文件\n",
    "matchedpath=''#地图匹配后轨迹文件\n",
    "hwtitle=['pid', 'tid', 'timestamp', 'type', 'acc', 'lat', 'lon', 'bearing', 'speed','fid']#hw表头\n",
    "matchedtitle=['pid','rid','heading','lon','lat']#地图匹配后轨迹表头"
   ]
  },
  {
   "cell_type": "code",
   "execution_count": null,
   "metadata": {},
   "outputs": [],
   "source": [
    "for i in range(1,6):\n",
    "    p1 = '../../data/wuhan/wuhan_all/test1%d/'%i#原始轨迹文件路径\n",
    "    p2 = '../../data/wuhan/wuhan_all/test1%dmatch/'%i#匹配后的文件路径\n",
    "    p3 = '../../output/tmp/武汉轨迹all/'#合并原始的列以后的文件路径\n",
    "    if not os.path.exists(p3):\n",
    "        os.mkdir(p3)\n",
    "    tu.joind2data_hw(p1,p2,p3)"
   ]
  },
  {
   "cell_type": "markdown",
   "metadata": {},
   "source": [
    "# 拼接后文件合并"
   ]
  },
  {
   "cell_type": "code",
   "execution_count": null,
   "metadata": {},
   "outputs": [],
   "source": [
    "path1=''#txt轨迹文件夹路径\n",
    "path2=''#输出文件路径\n",
    "tu.csvMerge1(path1,path2,postfix='.txt',fileNameAsIdx=True)"
   ]
  },
  {
   "cell_type": "markdown",
   "metadata": {},
   "source": [
    "# 调整列顺序"
   ]
  },
  {
   "cell_type": "code",
   "execution_count": null,
   "metadata": {},
   "outputs": [],
   "source": [
    "name='pid,roadid,heading,lon,lat,tid,timestamp,type,acc,bearing,speed,fid'.split(',')#原始列顺序\n",
    "nameNew='pid,tid,roadid,fid,lon,lat,timestamp,speed,type,acc,bearing,heading'.split(',')#新列顺序\n",
    "datapath='../../output/tmp/武汉轨迹all_merged/filesMerge.csv'#合并后文件路径\n",
    "outpath='../../output/tmp/武汉轨迹all_merged/tra_all.csv'#输出路径\n",
    "data=pd.read_csv(,names=name)\n",
    "data=data[nameNew]\n",
    "data.to_csv(outpath,index=0)"
   ]
  }
 ],
 "metadata": {
  "kernelspec": {
   "display_name": "tra",
   "language": "python",
   "name": "tra"
  },
  "language_info": {
   "codemirror_mode": {
    "name": "ipython",
    "version": 3
   },
   "file_extension": ".py",
   "mimetype": "text/x-python",
   "name": "python",
   "nbconvert_exporter": "python",
   "pygments_lexer": "ipython3",
   "version": "3.7.9"
  },
  "toc": {
   "base_numbering": 1,
   "nav_menu": {},
   "number_sections": true,
   "sideBar": true,
   "skip_h1_title": false,
   "title_cell": "Table of Contents",
   "title_sidebar": "Contents",
   "toc_cell": false,
   "toc_position": {},
   "toc_section_display": true,
   "toc_window_display": false
  },
  "varInspector": {
   "cols": {
    "lenName": 16,
    "lenType": 16,
    "lenVar": 40
   },
   "kernels_config": {
    "python": {
     "delete_cmd_postfix": "",
     "delete_cmd_prefix": "del ",
     "library": "var_list.py",
     "varRefreshCmd": "print(var_dic_list())"
    },
    "r": {
     "delete_cmd_postfix": ") ",
     "delete_cmd_prefix": "rm(",
     "library": "var_list.r",
     "varRefreshCmd": "cat(var_dic_list()) "
    }
   },
   "types_to_exclude": [
    "module",
    "function",
    "builtin_function_or_method",
    "instance",
    "_Feature"
   ],
   "window_display": false
  }
 },
 "nbformat": 4,
 "nbformat_minor": 4
}
