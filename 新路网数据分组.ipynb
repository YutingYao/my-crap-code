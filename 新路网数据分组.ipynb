{
 "cells": [
  {
   "cell_type": "code",
   "execution_count": 1,
   "metadata": {
    "ExecuteTime": {
     "end_time": "2021-04-15T09:16:37.072815Z",
     "start_time": "2021-04-15T09:16:35.820066Z"
    }
   },
   "outputs": [],
   "source": [
    "\n",
    "# This is lzl's snippet for diploma project\n",
    "import math\n",
    "import os,shutil\n",
    "import random\n",
    "import warnings\n",
    "import gc\n",
    "\n",
    "import geopandas as gpd\n",
    "import matplotlib as mpl\n",
    "import matplotlib.pyplot as plt\n",
    "import numpy as np\n",
    "import pandas as pd\n",
    "import shapely\n",
    "import seaborn as sns\n",
    "from shapely.geometry import LineString, Point, Polygon\n",
    "from shapely.wkt import dumps, loads\n",
    "from tqdm import tqdm\n",
    "\n",
    "import traProject as tp\n",
    "from traProject.analysisFuns import statisticFuns as sfun\n",
    "from traProject.basicFuns import CalFuns as cfun,VisFuns as vfun,DataProcessingFuns as dfun\n",
    "from traProject.classificationFuns import model_feature_selection as mfs\n",
    "import traProject.utils as tu\n",
    "\n",
    "random.seed(1229)\n",
    "\n",
    "# plt.style.use('seaborn')\n",
    "plt.rcParams['font.sans-serif'] = ['SimHei']  # 用来正常显示中文标签\n",
    "plt.rcParams['axes.unicode_minus'] = False  # 用来正常显示负号\n",
    "\n",
    "warnings.filterwarnings(\"ignore\")\n",
    "\n",
    "picOut='../../output/pic/paper/'\n"
   ]
  },
  {
   "cell_type": "code",
   "execution_count": 2,
   "metadata": {
    "ExecuteTime": {
     "end_time": "2021-04-15T09:18:24.305362Z",
     "start_time": "2021-04-15T09:18:24.301373Z"
    }
   },
   "outputs": [
    {
     "name": "stdout",
     "output_type": "stream",
     "text": [
      "Help on function calV_link_new in module traProject.basicFuns.CalFuns:\n",
      "\n",
      "calV_link_new(roadpath='../../output/paper/wuhan_road/WUHAN1_new.csv', trapath='../../output/paper/velocity/tra_all.csv', version=0, bufR=1e-05, minN=50, dropWifi=False, filename='tra_bylinkid_v', wfilename='数据质量问题路段', velocityName='velocity', outfile='', woutfile='', vlimit=[5, 120], toSingleFile=False)\n",
      "    [按link分组 新]\n",
      "    \n",
      "    :param roadpath: [路网路径], defaults to '../../output/paper/wuhan_road/WUHAN1_new.csv'\n",
      "    :type roadpath: str, optional\n",
      "    :param trapath: [轨迹路径], defaults to '../../output/paper/velocity/tra_all.csv'\n",
      "    :type trapath: str, optional\n",
      "    :param version: [计算v方法], defaults to 0，{0:保留原始speed+wifi重新计算,1:全部重新计算,2:高acc保留+低acc和计算取均值}\n",
      "    :type version: int, optional\n",
      "    :param bufR: [缓冲区半径], defaults to 0.00001\n",
      "    :type bufR: float, optional\n",
      "    :param minN: [路段最小点数，数量过少路段不输出并记录至错误日志], defaults to 50\n",
      "    :type minN: int, optional\n",
      "    :param dropWifi: [是否剔除wifi], defaults to False\n",
      "    :type dropWifi: bool, optional\n",
      "    :param filename: [文件名], defaults to 'tra_bylinkid_v'\n",
      "    :type filename: str, optional\n",
      "    :param wfilename: [错误日志文件名], defaults to '数据质量问题路段'\n",
      "    :type wfilename: str, optional\n",
      "    :param velocityName: [计算速度名], defaults to 'velocity'，{'velocity':2点计算,'velocity1':3点计算}\n",
      "    :type velocityName: str, optional\n",
      "    :param outfile: [输出文件路径], defaults to ''\n",
      "    :type outfile: str, optional\n",
      "    :param woutfile: [错误日志路径], defaults to ''\n",
      "    :type woutfile: str, optional\n",
      "    :param vlimit: [速度筛选阈值], defaults to [5,120]\n",
      "    :type vlimit: list, optional\n",
      "    :param toSingleFile: [是否输出至单个文件], defaults to False\n",
      "    :type toSingleFile: bool, optional\n",
      "\n"
     ]
    }
   ],
   "source": [
    "help(cfun.calV_link_new)"
   ]
  },
  {
   "cell_type": "code",
   "execution_count": 3,
   "metadata": {
    "ExecuteTime": {
     "end_time": "2021-04-15T09:43:47.459434Z",
     "start_time": "2021-04-15T09:20:07.555478Z"
    },
    "scrolled": true
   },
   "outputs": [
    {
     "name": "stderr",
     "output_type": "stream",
     "text": [
      "100%|████████████████████████████████████████████████████████████████████████████████| 3684/3684 [22:42<00:00,  2.70it/s]\n",
      "  0%|                                                                                   | 4/3684 [00:01<19:28,  3.15it/s]Exception ignored in: <function BaseGeometry.__del__ at 0x000001AC8B6F8D38>\n",
      "Traceback (most recent call last):\n",
      "  File \"D:\\progaramData\\anaconda\\envs\\tra1\\lib\\site-packages\\shapely\\geometry\\base.py\", line 242, in __del__\n",
      "    self.empty(val=None)\n",
      "  File \"D:\\progaramData\\anaconda\\envs\\tra1\\lib\\site-packages\\shapely\\geometry\\base.py\", line 227, in empty\n",
      "    self._lgeos.GEOSGeom_destroy(self.__geom__)\n",
      "KeyboardInterrupt: \n",
      "  0%|▍                                                                                 | 17/3684 [00:05<19:36,  3.12it/s]\n"
     ]
    },
    {
     "ename": "KeyboardInterrupt",
     "evalue": "",
     "output_type": "error",
     "traceback": [
      "\u001b[1;31m---------------------------------------------------------------------------\u001b[0m",
      "\u001b[1;31mKeyboardInterrupt\u001b[0m                         Traceback (most recent call last)",
      "\u001b[1;32m<ipython-input-3-dc4a947cee3e>\u001b[0m in \u001b[0;36m<module>\u001b[1;34m\u001b[0m\n\u001b[0;32m     12\u001b[0m               \u001b[0mvelocityName\u001b[0m\u001b[1;33m=\u001b[0m\u001b[0mvname\u001b[0m\u001b[1;33m,\u001b[0m\u001b[1;33m\u001b[0m\u001b[1;33m\u001b[0m\u001b[0m\n\u001b[0;32m     13\u001b[0m                 \u001b[0mvlimit\u001b[0m\u001b[1;33m=\u001b[0m\u001b[1;33m[\u001b[0m\u001b[1;36m0\u001b[0m\u001b[1;33m,\u001b[0m \u001b[1;36m120\u001b[0m\u001b[1;33m]\u001b[0m\u001b[1;33m,\u001b[0m\u001b[1;33m\u001b[0m\u001b[1;33m\u001b[0m\u001b[0m\n\u001b[1;32m---> 14\u001b[1;33m                 toSingleFile=True)\n\u001b[0m",
      "\u001b[1;32mD:\\DiplomaProject\\code\\my-trash-code\\traProject\\basicFuns\\CalFuns.py\u001b[0m in \u001b[0;36mcalV_link_new\u001b[1;34m(roadpath, trapath, version, bufR, minN, dropWifi, filename, wfilename, velocityName, outfile, woutfile, vlimit, toSingleFile)\u001b[0m\n\u001b[0;32m    474\u001b[0m             \u001b[0mtmpTra\u001b[0m\u001b[1;33m[\u001b[0m\u001b[0mspeedversion\u001b[0m\u001b[1;33m]\u001b[0m\u001b[1;33m=\u001b[0m\u001b[0mtmpTra\u001b[0m\u001b[1;33m.\u001b[0m\u001b[0mapply\u001b[0m\u001b[1;33m(\u001b[0m\u001b[1;32mlambda\u001b[0m \u001b[0ma\u001b[0m\u001b[1;33m:\u001b[0m\u001b[0ma\u001b[0m\u001b[1;33m[\u001b[0m\u001b[0mvelocityName\u001b[0m\u001b[1;33m]\u001b[0m\u001b[1;33m,\u001b[0m\u001b[0maxis\u001b[0m\u001b[1;33m=\u001b[0m\u001b[1;36m1\u001b[0m\u001b[1;33m)\u001b[0m\u001b[1;33m\u001b[0m\u001b[1;33m\u001b[0m\u001b[0m\n\u001b[0;32m    475\u001b[0m         \u001b[1;32mif\u001b[0m \u001b[0mversion\u001b[0m\u001b[1;33m==\u001b[0m\u001b[1;36m2\u001b[0m\u001b[1;33m:\u001b[0m\u001b[1;33m\u001b[0m\u001b[1;33m\u001b[0m\u001b[0m\n\u001b[1;32m--> 476\u001b[1;33m             \u001b[0mtmpTra\u001b[0m\u001b[1;33m=\u001b[0m\u001b[0mgenNewspeed\u001b[0m\u001b[1;33m(\u001b[0m\u001b[0mtmpTra\u001b[0m\u001b[1;33m,\u001b[0m\u001b[0mvelocityName\u001b[0m\u001b[1;33m=\u001b[0m\u001b[0mvelocityName\u001b[0m\u001b[1;33m,\u001b[0m\u001b[0mnewSpeedName\u001b[0m\u001b[1;33m=\u001b[0m\u001b[0mspeedversion\u001b[0m\u001b[1;33m)\u001b[0m\u001b[1;33m\u001b[0m\u001b[1;33m\u001b[0m\u001b[0m\n\u001b[0m\u001b[0;32m    477\u001b[0m         \u001b[0mtmpTra\u001b[0m \u001b[1;33m=\u001b[0m \u001b[0mtu\u001b[0m\u001b[1;33m.\u001b[0m\u001b[0mvFilter\u001b[0m\u001b[1;33m(\u001b[0m\u001b[0mtmpTra\u001b[0m\u001b[1;33m,\u001b[0m \u001b[0mvlimt\u001b[0m\u001b[1;33m=\u001b[0m\u001b[0mvlimit\u001b[0m\u001b[1;33m,\u001b[0m\u001b[0mspeedName\u001b[0m\u001b[1;33m=\u001b[0m\u001b[0mspeedversion\u001b[0m\u001b[1;33m)\u001b[0m\u001b[1;33m\u001b[0m\u001b[1;33m\u001b[0m\u001b[0m\n\u001b[0;32m    478\u001b[0m         \u001b[0mtmp\u001b[0m\u001b[1;33m=\u001b[0m\u001b[0mtmpTra\u001b[0m\u001b[1;33m[\u001b[0m\u001b[0mtmpTra\u001b[0m\u001b[1;33m.\u001b[0m\u001b[0mapply\u001b[0m\u001b[1;33m(\u001b[0m\u001b[1;32mlambda\u001b[0m \u001b[0mx\u001b[0m\u001b[1;33m:\u001b[0m\u001b[0mbuf\u001b[0m\u001b[1;33m.\u001b[0m\u001b[0mcontains\u001b[0m\u001b[1;33m(\u001b[0m\u001b[0mPoint\u001b[0m\u001b[1;33m(\u001b[0m\u001b[0mx\u001b[0m\u001b[1;33m[\u001b[0m\u001b[1;34m'lon'\u001b[0m\u001b[1;33m]\u001b[0m\u001b[1;33m,\u001b[0m \u001b[0mx\u001b[0m\u001b[1;33m[\u001b[0m\u001b[1;34m'lat'\u001b[0m\u001b[1;33m]\u001b[0m\u001b[1;33m)\u001b[0m\u001b[1;33m)\u001b[0m\u001b[1;33m,\u001b[0m \u001b[0maxis\u001b[0m\u001b[1;33m=\u001b[0m\u001b[1;36m1\u001b[0m\u001b[1;33m)\u001b[0m\u001b[1;33m]\u001b[0m\u001b[1;33m\u001b[0m\u001b[1;33m\u001b[0m\u001b[0m\n",
      "\u001b[1;32mD:\\DiplomaProject\\code\\my-trash-code\\traProject\\basicFuns\\CalFuns.py\u001b[0m in \u001b[0;36mgenNewspeed\u001b[1;34m(A, vlimt, minAcc, velocityName, ws, wv, newSpeedName)\u001b[0m\n\u001b[0;32m    297\u001b[0m     \u001b[0mA\u001b[0m \u001b[1;33m=\u001b[0m \u001b[0mA\u001b[0m\u001b[1;33m[\u001b[0m\u001b[1;33m(\u001b[0m\u001b[0mA\u001b[0m\u001b[1;33m[\u001b[0m\u001b[0mspeedName\u001b[0m\u001b[1;33m]\u001b[0m \u001b[1;33m>=\u001b[0m \u001b[0mvlimt\u001b[0m\u001b[1;33m[\u001b[0m\u001b[1;36m0\u001b[0m\u001b[1;33m]\u001b[0m\u001b[1;33m)\u001b[0m \u001b[1;33m&\u001b[0m \u001b[1;33m(\u001b[0m\u001b[0mA\u001b[0m\u001b[1;33m[\u001b[0m\u001b[0mspeedName\u001b[0m\u001b[1;33m]\u001b[0m \u001b[1;33m<=\u001b[0m \u001b[0mvlimt\u001b[0m\u001b[1;33m[\u001b[0m\u001b[1;36m1\u001b[0m\u001b[1;33m]\u001b[0m\u001b[1;33m)\u001b[0m\u001b[1;33m]\u001b[0m\u001b[1;33m\u001b[0m\u001b[1;33m\u001b[0m\u001b[0m\n\u001b[0;32m    298\u001b[0m     A[newSpeedName] = A.apply(lambda a: (a[velocityName]*wv+a.speed*ws) if (a.type ==\n\u001b[1;32m--> 299\u001b[1;33m                                                                  0 and a[velocityName] > 0 and a.acc <= minAcc) else a.speed, axis=1)  # 融合\n\u001b[0m\u001b[0;32m    300\u001b[0m     \u001b[0mA\u001b[0m \u001b[1;33m=\u001b[0m \u001b[0mvFilter2\u001b[0m\u001b[1;33m(\u001b[0m\u001b[0mA\u001b[0m\u001b[1;33m,\u001b[0m\u001b[0mnewSpeedName\u001b[0m\u001b[1;33m)\u001b[0m  \u001b[1;31m# 筛一遍新速度\u001b[0m\u001b[1;33m\u001b[0m\u001b[1;33m\u001b[0m\u001b[0m\n\u001b[0;32m    301\u001b[0m     \u001b[1;32mreturn\u001b[0m \u001b[0mA\u001b[0m\u001b[1;33m\u001b[0m\u001b[1;33m\u001b[0m\u001b[0m\n",
      "\u001b[1;32mD:\\progaramData\\anaconda\\envs\\tra1\\lib\\site-packages\\pandas\\core\\frame.py\u001b[0m in \u001b[0;36mapply\u001b[1;34m(self, func, axis, raw, result_type, args, **kwds)\u001b[0m\n\u001b[0;32m   7766\u001b[0m             \u001b[0mkwds\u001b[0m\u001b[1;33m=\u001b[0m\u001b[0mkwds\u001b[0m\u001b[1;33m,\u001b[0m\u001b[1;33m\u001b[0m\u001b[1;33m\u001b[0m\u001b[0m\n\u001b[0;32m   7767\u001b[0m         )\n\u001b[1;32m-> 7768\u001b[1;33m         \u001b[1;32mreturn\u001b[0m \u001b[0mop\u001b[0m\u001b[1;33m.\u001b[0m\u001b[0mget_result\u001b[0m\u001b[1;33m(\u001b[0m\u001b[1;33m)\u001b[0m\u001b[1;33m\u001b[0m\u001b[1;33m\u001b[0m\u001b[0m\n\u001b[0m\u001b[0;32m   7769\u001b[0m \u001b[1;33m\u001b[0m\u001b[0m\n\u001b[0;32m   7770\u001b[0m     \u001b[1;32mdef\u001b[0m \u001b[0mapplymap\u001b[0m\u001b[1;33m(\u001b[0m\u001b[0mself\u001b[0m\u001b[1;33m,\u001b[0m \u001b[0mfunc\u001b[0m\u001b[1;33m,\u001b[0m \u001b[0mna_action\u001b[0m\u001b[1;33m:\u001b[0m \u001b[0mOptional\u001b[0m\u001b[1;33m[\u001b[0m\u001b[0mstr\u001b[0m\u001b[1;33m]\u001b[0m \u001b[1;33m=\u001b[0m \u001b[1;32mNone\u001b[0m\u001b[1;33m)\u001b[0m \u001b[1;33m->\u001b[0m \u001b[0mDataFrame\u001b[0m\u001b[1;33m:\u001b[0m\u001b[1;33m\u001b[0m\u001b[1;33m\u001b[0m\u001b[0m\n",
      "\u001b[1;32mD:\\progaramData\\anaconda\\envs\\tra1\\lib\\site-packages\\pandas\\core\\apply.py\u001b[0m in \u001b[0;36mget_result\u001b[1;34m(self)\u001b[0m\n\u001b[0;32m    183\u001b[0m             \u001b[1;32mreturn\u001b[0m \u001b[0mself\u001b[0m\u001b[1;33m.\u001b[0m\u001b[0mapply_raw\u001b[0m\u001b[1;33m(\u001b[0m\u001b[1;33m)\u001b[0m\u001b[1;33m\u001b[0m\u001b[1;33m\u001b[0m\u001b[0m\n\u001b[0;32m    184\u001b[0m \u001b[1;33m\u001b[0m\u001b[0m\n\u001b[1;32m--> 185\u001b[1;33m         \u001b[1;32mreturn\u001b[0m \u001b[0mself\u001b[0m\u001b[1;33m.\u001b[0m\u001b[0mapply_standard\u001b[0m\u001b[1;33m(\u001b[0m\u001b[1;33m)\u001b[0m\u001b[1;33m\u001b[0m\u001b[1;33m\u001b[0m\u001b[0m\n\u001b[0m\u001b[0;32m    186\u001b[0m \u001b[1;33m\u001b[0m\u001b[0m\n\u001b[0;32m    187\u001b[0m     \u001b[1;32mdef\u001b[0m \u001b[0mapply_empty_result\u001b[0m\u001b[1;33m(\u001b[0m\u001b[0mself\u001b[0m\u001b[1;33m)\u001b[0m\u001b[1;33m:\u001b[0m\u001b[1;33m\u001b[0m\u001b[1;33m\u001b[0m\u001b[0m\n",
      "\u001b[1;32mD:\\progaramData\\anaconda\\envs\\tra1\\lib\\site-packages\\pandas\\core\\apply.py\u001b[0m in \u001b[0;36mapply_standard\u001b[1;34m(self)\u001b[0m\n\u001b[0;32m    274\u001b[0m \u001b[1;33m\u001b[0m\u001b[0m\n\u001b[0;32m    275\u001b[0m     \u001b[1;32mdef\u001b[0m \u001b[0mapply_standard\u001b[0m\u001b[1;33m(\u001b[0m\u001b[0mself\u001b[0m\u001b[1;33m)\u001b[0m\u001b[1;33m:\u001b[0m\u001b[1;33m\u001b[0m\u001b[1;33m\u001b[0m\u001b[0m\n\u001b[1;32m--> 276\u001b[1;33m         \u001b[0mresults\u001b[0m\u001b[1;33m,\u001b[0m \u001b[0mres_index\u001b[0m \u001b[1;33m=\u001b[0m \u001b[0mself\u001b[0m\u001b[1;33m.\u001b[0m\u001b[0mapply_series_generator\u001b[0m\u001b[1;33m(\u001b[0m\u001b[1;33m)\u001b[0m\u001b[1;33m\u001b[0m\u001b[1;33m\u001b[0m\u001b[0m\n\u001b[0m\u001b[0;32m    277\u001b[0m \u001b[1;33m\u001b[0m\u001b[0m\n\u001b[0;32m    278\u001b[0m         \u001b[1;31m# wrap results\u001b[0m\u001b[1;33m\u001b[0m\u001b[1;33m\u001b[0m\u001b[1;33m\u001b[0m\u001b[0m\n",
      "\u001b[1;32mD:\\progaramData\\anaconda\\envs\\tra1\\lib\\site-packages\\pandas\\core\\apply.py\u001b[0m in \u001b[0;36mapply_series_generator\u001b[1;34m(self)\u001b[0m\n\u001b[0;32m    288\u001b[0m             \u001b[1;32mfor\u001b[0m \u001b[0mi\u001b[0m\u001b[1;33m,\u001b[0m \u001b[0mv\u001b[0m \u001b[1;32min\u001b[0m \u001b[0menumerate\u001b[0m\u001b[1;33m(\u001b[0m\u001b[0mseries_gen\u001b[0m\u001b[1;33m)\u001b[0m\u001b[1;33m:\u001b[0m\u001b[1;33m\u001b[0m\u001b[1;33m\u001b[0m\u001b[0m\n\u001b[0;32m    289\u001b[0m                 \u001b[1;31m# ignore SettingWithCopy here in case the user mutates\u001b[0m\u001b[1;33m\u001b[0m\u001b[1;33m\u001b[0m\u001b[1;33m\u001b[0m\u001b[0m\n\u001b[1;32m--> 290\u001b[1;33m                 \u001b[0mresults\u001b[0m\u001b[1;33m[\u001b[0m\u001b[0mi\u001b[0m\u001b[1;33m]\u001b[0m \u001b[1;33m=\u001b[0m \u001b[0mself\u001b[0m\u001b[1;33m.\u001b[0m\u001b[0mf\u001b[0m\u001b[1;33m(\u001b[0m\u001b[0mv\u001b[0m\u001b[1;33m)\u001b[0m\u001b[1;33m\u001b[0m\u001b[1;33m\u001b[0m\u001b[0m\n\u001b[0m\u001b[0;32m    291\u001b[0m                 \u001b[1;32mif\u001b[0m \u001b[0misinstance\u001b[0m\u001b[1;33m(\u001b[0m\u001b[0mresults\u001b[0m\u001b[1;33m[\u001b[0m\u001b[0mi\u001b[0m\u001b[1;33m]\u001b[0m\u001b[1;33m,\u001b[0m \u001b[0mABCSeries\u001b[0m\u001b[1;33m)\u001b[0m\u001b[1;33m:\u001b[0m\u001b[1;33m\u001b[0m\u001b[1;33m\u001b[0m\u001b[0m\n\u001b[0;32m    292\u001b[0m                     \u001b[1;31m# If we have a view on v, we need to make a copy because\u001b[0m\u001b[1;33m\u001b[0m\u001b[1;33m\u001b[0m\u001b[1;33m\u001b[0m\u001b[0m\n",
      "\u001b[1;32mD:\\DiplomaProject\\code\\my-trash-code\\traProject\\basicFuns\\CalFuns.py\u001b[0m in \u001b[0;36m<lambda>\u001b[1;34m(a)\u001b[0m\n\u001b[0;32m    297\u001b[0m     \u001b[0mA\u001b[0m \u001b[1;33m=\u001b[0m \u001b[0mA\u001b[0m\u001b[1;33m[\u001b[0m\u001b[1;33m(\u001b[0m\u001b[0mA\u001b[0m\u001b[1;33m[\u001b[0m\u001b[0mspeedName\u001b[0m\u001b[1;33m]\u001b[0m \u001b[1;33m>=\u001b[0m \u001b[0mvlimt\u001b[0m\u001b[1;33m[\u001b[0m\u001b[1;36m0\u001b[0m\u001b[1;33m]\u001b[0m\u001b[1;33m)\u001b[0m \u001b[1;33m&\u001b[0m \u001b[1;33m(\u001b[0m\u001b[0mA\u001b[0m\u001b[1;33m[\u001b[0m\u001b[0mspeedName\u001b[0m\u001b[1;33m]\u001b[0m \u001b[1;33m<=\u001b[0m \u001b[0mvlimt\u001b[0m\u001b[1;33m[\u001b[0m\u001b[1;36m1\u001b[0m\u001b[1;33m]\u001b[0m\u001b[1;33m)\u001b[0m\u001b[1;33m]\u001b[0m\u001b[1;33m\u001b[0m\u001b[1;33m\u001b[0m\u001b[0m\n\u001b[0;32m    298\u001b[0m     A[newSpeedName] = A.apply(lambda a: (a[velocityName]*wv+a.speed*ws) if (a.type ==\n\u001b[1;32m--> 299\u001b[1;33m                                                                  0 and a[velocityName] > 0 and a.acc <= minAcc) else a.speed, axis=1)  # 融合\n\u001b[0m\u001b[0;32m    300\u001b[0m     \u001b[0mA\u001b[0m \u001b[1;33m=\u001b[0m \u001b[0mvFilter2\u001b[0m\u001b[1;33m(\u001b[0m\u001b[0mA\u001b[0m\u001b[1;33m,\u001b[0m\u001b[0mnewSpeedName\u001b[0m\u001b[1;33m)\u001b[0m  \u001b[1;31m# 筛一遍新速度\u001b[0m\u001b[1;33m\u001b[0m\u001b[1;33m\u001b[0m\u001b[0m\n\u001b[0;32m    301\u001b[0m     \u001b[1;32mreturn\u001b[0m \u001b[0mA\u001b[0m\u001b[1;33m\u001b[0m\u001b[1;33m\u001b[0m\u001b[0m\n",
      "\u001b[1;32mD:\\progaramData\\anaconda\\envs\\tra1\\lib\\site-packages\\pandas\\core\\generic.py\u001b[0m in \u001b[0;36m__getattr__\u001b[1;34m(self, name)\u001b[0m\n\u001b[0;32m   5462\u001b[0m         \u001b[1;32melse\u001b[0m\u001b[1;33m:\u001b[0m\u001b[1;33m\u001b[0m\u001b[1;33m\u001b[0m\u001b[0m\n\u001b[0;32m   5463\u001b[0m             \u001b[1;32mif\u001b[0m \u001b[0mself\u001b[0m\u001b[1;33m.\u001b[0m\u001b[0m_info_axis\u001b[0m\u001b[1;33m.\u001b[0m\u001b[0m_can_hold_identifiers_and_holds_name\u001b[0m\u001b[1;33m(\u001b[0m\u001b[0mname\u001b[0m\u001b[1;33m)\u001b[0m\u001b[1;33m:\u001b[0m\u001b[1;33m\u001b[0m\u001b[1;33m\u001b[0m\u001b[0m\n\u001b[1;32m-> 5464\u001b[1;33m                 \u001b[1;32mreturn\u001b[0m \u001b[0mself\u001b[0m\u001b[1;33m[\u001b[0m\u001b[0mname\u001b[0m\u001b[1;33m]\u001b[0m\u001b[1;33m\u001b[0m\u001b[1;33m\u001b[0m\u001b[0m\n\u001b[0m\u001b[0;32m   5465\u001b[0m             \u001b[1;32mreturn\u001b[0m \u001b[0mobject\u001b[0m\u001b[1;33m.\u001b[0m\u001b[0m__getattribute__\u001b[0m\u001b[1;33m(\u001b[0m\u001b[0mself\u001b[0m\u001b[1;33m,\u001b[0m \u001b[0mname\u001b[0m\u001b[1;33m)\u001b[0m\u001b[1;33m\u001b[0m\u001b[1;33m\u001b[0m\u001b[0m\n\u001b[0;32m   5466\u001b[0m \u001b[1;33m\u001b[0m\u001b[0m\n",
      "\u001b[1;32mD:\\progaramData\\anaconda\\envs\\tra1\\lib\\site-packages\\pandas\\core\\series.py\u001b[0m in \u001b[0;36m__getitem__\u001b[1;34m(self, key)\u001b[0m\n\u001b[0;32m    851\u001b[0m \u001b[1;33m\u001b[0m\u001b[0m\n\u001b[0;32m    852\u001b[0m         \u001b[1;32melif\u001b[0m \u001b[0mkey_is_scalar\u001b[0m\u001b[1;33m:\u001b[0m\u001b[1;33m\u001b[0m\u001b[1;33m\u001b[0m\u001b[0m\n\u001b[1;32m--> 853\u001b[1;33m             \u001b[1;32mreturn\u001b[0m \u001b[0mself\u001b[0m\u001b[1;33m.\u001b[0m\u001b[0m_get_value\u001b[0m\u001b[1;33m(\u001b[0m\u001b[0mkey\u001b[0m\u001b[1;33m)\u001b[0m\u001b[1;33m\u001b[0m\u001b[1;33m\u001b[0m\u001b[0m\n\u001b[0m\u001b[0;32m    854\u001b[0m \u001b[1;33m\u001b[0m\u001b[0m\n\u001b[0;32m    855\u001b[0m         \u001b[1;32mif\u001b[0m \u001b[0mis_hashable\u001b[0m\u001b[1;33m(\u001b[0m\u001b[0mkey\u001b[0m\u001b[1;33m)\u001b[0m\u001b[1;33m:\u001b[0m\u001b[1;33m\u001b[0m\u001b[1;33m\u001b[0m\u001b[0m\n",
      "\u001b[1;32mD:\\progaramData\\anaconda\\envs\\tra1\\lib\\site-packages\\pandas\\core\\series.py\u001b[0m in \u001b[0;36m_get_value\u001b[1;34m(self, label, takeable)\u001b[0m\n\u001b[0;32m    959\u001b[0m \u001b[1;33m\u001b[0m\u001b[0m\n\u001b[0;32m    960\u001b[0m         \u001b[1;31m# Similar to Index.get_value, but we do not fall back to positional\u001b[0m\u001b[1;33m\u001b[0m\u001b[1;33m\u001b[0m\u001b[1;33m\u001b[0m\u001b[0m\n\u001b[1;32m--> 961\u001b[1;33m         \u001b[0mloc\u001b[0m \u001b[1;33m=\u001b[0m \u001b[0mself\u001b[0m\u001b[1;33m.\u001b[0m\u001b[0mindex\u001b[0m\u001b[1;33m.\u001b[0m\u001b[0mget_loc\u001b[0m\u001b[1;33m(\u001b[0m\u001b[0mlabel\u001b[0m\u001b[1;33m)\u001b[0m\u001b[1;33m\u001b[0m\u001b[1;33m\u001b[0m\u001b[0m\n\u001b[0m\u001b[0;32m    962\u001b[0m         \u001b[1;32mreturn\u001b[0m \u001b[0mself\u001b[0m\u001b[1;33m.\u001b[0m\u001b[0mindex\u001b[0m\u001b[1;33m.\u001b[0m\u001b[0m_get_values_for_loc\u001b[0m\u001b[1;33m(\u001b[0m\u001b[0mself\u001b[0m\u001b[1;33m,\u001b[0m \u001b[0mloc\u001b[0m\u001b[1;33m,\u001b[0m \u001b[0mlabel\u001b[0m\u001b[1;33m)\u001b[0m\u001b[1;33m\u001b[0m\u001b[1;33m\u001b[0m\u001b[0m\n\u001b[0;32m    963\u001b[0m \u001b[1;33m\u001b[0m\u001b[0m\n",
      "\u001b[1;31mKeyboardInterrupt\u001b[0m: "
     ]
    }
   ],
   "source": [
    "for vname in ['velocity','velocity1']:\n",
    "    for v in [0,2]:\n",
    "        cfun.calV_link_new(roadpath='../../output/paper/wuhan_road/WUHAN_new.csv', \n",
    "              trapath='../../output/paper/velocity/tra_all.csv',\n",
    "              version=v, \n",
    "              bufR=2e-05, \n",
    "              minN=50, \n",
    "              dropWifi=False, \n",
    "              filename='tra_link_id_v',\n",
    "              wfilename='problem_road_new',\n",
    "              outfile=tu.pathCheck('../../output/paper/tra_linkid_new/'),\n",
    "              velocityName=vname,\n",
    "                vlimit=[0, 120],\n",
    "                toSingleFile=True)"
   ]
  },
  {
   "cell_type": "code",
   "execution_count": null,
   "metadata": {},
   "outputs": [],
   "source": [
    "versionList=[0,2]\n",
    "PtsOrTraList=['Pts','Tra']\n",
    "velocityNameList=['velocity','velocity1']\n",
    "dropViaductList=[True,False]\n",
    "dropWifiList=[True,False]\n",
    "\n",
    "PtsOrTra='Pts'\n",
    "dropViaduct=True\n",
    "dropWifi=True\n",
    "percentList=[0.5]\n",
    "vTopNModeList=['1_0.5']\n",
    "vTopNModeList.extend('2_%s'%i for i in percentList)\n",
    "\n",
    "outfile='../../output/paper/FE_new/'\n",
    "\n",
    "for version in versionList:\n",
    "    sname='speed%s'%version\n",
    "    for vTopNModestr in vTopNModeList:\n",
    "        vTopNMode=int(vTopNModestr.split('_')[0])\n",
    "        percent=float(vTopNModestr.split('_')[1])\n",
    "        for velocityName in velocityNameList:\n",
    "            versionName='%s_dropViaduct=%s_dropWifi=%s_vTopNmode=%s_velocity=%s'%(sname,dropViaduct,dropWifi,vTopNModestr,velocityName)\n",
    "            fatherfiles=tu.getFileNames('../../output/paper/tra_linkid_new/tra_link_id_v%s_%s_minN=50_bufR=1e-05_dropWifi=False_velocity=%s/'%(version,PtsOrTra,velocityName))\n",
    "            for fa in tqdm(fatherfiles):\n",
    "                files=tu.getFileNames(fa+'/')\n",
    "                for file in files:\n",
    "                    tu.genDataSet1(file,\n",
    "                                '../../output/paper/wuhan_road/WUHAN1_new.csv',\n",
    "                                outfile=tu.pathCheck(outfile),\n",
    "                                speedName=sname,\n",
    "                                dname='tra_%s'%(versionName),\n",
    "                                attrNames=['Sdis','Xdis','RC','viaduct'],\n",
    "                                minPNum=50,\n",
    "                                dropViaduct=dropViaduct,   \n",
    "                                dropWifi=dropWifi,\n",
    "                                vTopNMode=vTopNMode,\n",
    "                                percent=percent\n",
    "                                )"
   ]
  },
  {
   "cell_type": "code",
   "execution_count": null,
   "metadata": {},
   "outputs": [],
   "source": [
    "mfs.main('../../output/paper/FE_new/','../../output/paper/models_new/')"
   ]
  }
 ],
 "metadata": {
  "kernelspec": {
   "display_name": "tra1",
   "language": "python",
   "name": "tra1"
  },
  "language_info": {
   "codemirror_mode": {
    "name": "ipython",
    "version": 3
   },
   "file_extension": ".py",
   "mimetype": "text/x-python",
   "name": "python",
   "nbconvert_exporter": "python",
   "pygments_lexer": "ipython3",
   "version": "3.7.10"
  },
  "toc": {
   "base_numbering": 1,
   "nav_menu": {},
   "number_sections": true,
   "sideBar": true,
   "skip_h1_title": false,
   "title_cell": "Table of Contents",
   "title_sidebar": "Contents",
   "toc_cell": false,
   "toc_position": {},
   "toc_section_display": true,
   "toc_window_display": false
  },
  "varInspector": {
   "cols": {
    "lenName": 16,
    "lenType": 16,
    "lenVar": 40
   },
   "kernels_config": {
    "python": {
     "delete_cmd_postfix": "",
     "delete_cmd_prefix": "del ",
     "library": "var_list.py",
     "varRefreshCmd": "print(var_dic_list())"
    },
    "r": {
     "delete_cmd_postfix": ") ",
     "delete_cmd_prefix": "rm(",
     "library": "var_list.r",
     "varRefreshCmd": "cat(var_dic_list()) "
    }
   },
   "types_to_exclude": [
    "module",
    "function",
    "builtin_function_or_method",
    "instance",
    "_Feature"
   ],
   "window_display": false
  }
 },
 "nbformat": 4,
 "nbformat_minor": 4
}
