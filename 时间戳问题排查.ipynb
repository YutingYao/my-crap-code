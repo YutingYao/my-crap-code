{
 "cells": [
  {
   "cell_type": "code",
   "execution_count": 1,
   "metadata": {
    "ExecuteTime": {
     "end_time": "2021-03-02T15:05:01.287076Z",
     "start_time": "2021-03-02T15:05:00.402330Z"
    }
   },
   "outputs": [],
   "source": [
    "\n",
    "\n",
    "# This is lzl's snippet for diploma project\n",
    "import math\n",
    "import os,shutil\n",
    "import random\n",
    "import warnings\n",
    "import gc\n",
    "\n",
    "import geopandas as gpd\n",
    "import matplotlib as mpl\n",
    "import matplotlib.pyplot as plt\n",
    "import numpy as np\n",
    "import pandas as pd\n",
    "import shapely\n",
    "import seaborn as sns\n",
    "from shapely.geometry import LineString, Point, Polygon\n",
    "from shapely.wkt import dumps, loads\n",
    "from tqdm import tqdm\n",
    "\n",
    "import traProject as tp\n",
    "from traProject.analysisFuns import statisticFuns as sfuns\n",
    "from traProject.basicFuns import CalFuns as cfun,VisFuns as vfun,DataProcessingFuns as dfun\n",
    "from traProject.classificationFuns import models\n",
    "import traProject.utils as tu\n",
    "\n",
    "random.seed(1229)\n",
    "\n",
    "plt.style.use('seaborn')\n",
    "plt.rcParams['font.sans-serif'] = ['SimHei']  # 用来正常显示中文标签\n",
    "plt.rcParams['axes.unicode_minus'] = False  # 用来正常显示负号\n",
    "\n",
    "warnings.filterwarnings(\"ignore\")\n",
    "\n"
   ]
  },
  {
   "cell_type": "code",
   "execution_count": 7,
   "metadata": {
    "ExecuteTime": {
     "end_time": "2021-02-10T07:50:10.761068Z",
     "start_time": "2021-02-10T07:50:10.757082Z"
    }
   },
   "outputs": [],
   "source": [
    "path = '../../data/wuhan/WH_GPS/WH-201908'\n",
    "path_read = []\n",
    "def check_if_dir(file_path):\n",
    "    temp_list = os.listdir(file_path)\n",
    "    if temp_list and os.path.isfile(file_path + '/' + temp_list[0]): \n",
    "        for temp_list_each in temp_list:\n",
    "            temp_path = file_path + '/' + temp_list_each\n",
    "            if os.path.splitext(temp_path)[-1] == '.csv':\n",
    "                path_read.append(temp_path)\n",
    "            else:\n",
    "                continue\n",
    "    else:\n",
    "        for temp_list_each in temp_list:\n",
    "            check_if_dir(file_path + '/' + temp_list_each)"
   ]
  },
  {
   "cell_type": "code",
   "execution_count": 9,
   "metadata": {
    "ExecuteTime": {
     "end_time": "2021-02-10T07:50:34.019056Z",
     "start_time": "2021-02-10T07:50:31.204840Z"
    }
   },
   "outputs": [
    {
     "name": "stdout",
     "output_type": "stream",
     "text": [
      "num of csv data is: 330624\n"
     ]
    }
   ],
   "source": [
    "if path_read:\n",
    "    path_read.clear()\n",
    "check_if_dir(path)\n",
    "print('num of csv data is: {}'.format(len(path_read)))\n",
    "path_read\n",
    "x=pd.DataFrame(path_read)\n",
    "x.to_csv(outpath+'/path.csv')"
   ]
  },
  {
   "cell_type": "code",
   "execution_count": 11,
   "metadata": {
    "ExecuteTime": {
     "end_time": "2021-02-10T08:17:21.269712Z",
     "start_time": "2021-02-10T07:54:06.532877Z"
    }
   },
   "outputs": [],
   "source": [
    "for idx,filepath in enumerate(path_read):\n",
    "    tmp=pd.read_csv(filepath)\n",
    "    if idx==0:\n",
    "        tmp.to_csv(outpath+'/merged.csv',index=0)\n",
    "    else:\n",
    "        tmp.to_csv(outpath+'/merged.csv',index=0,mode='a',header=None)"
   ]
  },
  {
   "cell_type": "code",
   "execution_count": 3,
   "metadata": {
    "ExecuteTime": {
     "end_time": "2021-02-10T08:34:43.037345Z",
     "start_time": "2021-02-10T08:34:14.979533Z"
    },
    "scrolled": true
   },
   "outputs": [
    {
     "data": {
      "text/html": [
       "<div>\n",
       "<style scoped>\n",
       "    .dataframe tbody tr th:only-of-type {\n",
       "        vertical-align: middle;\n",
       "    }\n",
       "\n",
       "    .dataframe tbody tr th {\n",
       "        vertical-align: top;\n",
       "    }\n",
       "\n",
       "    .dataframe thead th {\n",
       "        text-align: right;\n",
       "    }\n",
       "</style>\n",
       "<table border=\"1\" class=\"dataframe\">\n",
       "  <thead>\n",
       "    <tr style=\"text-align: right;\">\n",
       "      <th></th>\n",
       "      <th>IMEIorMEID</th>\n",
       "      <th>FIX_TIME</th>\n",
       "    </tr>\n",
       "  </thead>\n",
       "  <tbody>\n",
       "    <tr>\n",
       "      <th>0</th>\n",
       "      <td>159</td>\n",
       "      <td>1.564154e+09</td>\n",
       "    </tr>\n",
       "    <tr>\n",
       "      <th>1</th>\n",
       "      <td>159</td>\n",
       "      <td>1.564179e+09</td>\n",
       "    </tr>\n",
       "    <tr>\n",
       "      <th>2</th>\n",
       "      <td>159</td>\n",
       "      <td>1.564192e+09</td>\n",
       "    </tr>\n",
       "    <tr>\n",
       "      <th>3</th>\n",
       "      <td>159</td>\n",
       "      <td>1.564198e+09</td>\n",
       "    </tr>\n",
       "    <tr>\n",
       "      <th>4</th>\n",
       "      <td>159</td>\n",
       "      <td>1.564198e+09</td>\n",
       "    </tr>\n",
       "    <tr>\n",
       "      <th>...</th>\n",
       "      <td>...</td>\n",
       "      <td>...</td>\n",
       "    </tr>\n",
       "    <tr>\n",
       "      <th>45471726</th>\n",
       "      <td>6172</td>\n",
       "      <td>1.566944e+12</td>\n",
       "    </tr>\n",
       "    <tr>\n",
       "      <th>45471727</th>\n",
       "      <td>6173</td>\n",
       "      <td>1.567172e+12</td>\n",
       "    </tr>\n",
       "    <tr>\n",
       "      <th>45471728</th>\n",
       "      <td>6174</td>\n",
       "      <td>1.567141e+12</td>\n",
       "    </tr>\n",
       "    <tr>\n",
       "      <th>45471729</th>\n",
       "      <td>6174</td>\n",
       "      <td>1.567207e+12</td>\n",
       "    </tr>\n",
       "    <tr>\n",
       "      <th>45471730</th>\n",
       "      <td>6174</td>\n",
       "      <td>1.567210e+12</td>\n",
       "    </tr>\n",
       "  </tbody>\n",
       "</table>\n",
       "<p>45471731 rows × 2 columns</p>\n",
       "</div>"
      ],
      "text/plain": [
       "          IMEIorMEID      FIX_TIME\n",
       "0                159  1.564154e+09\n",
       "1                159  1.564179e+09\n",
       "2                159  1.564192e+09\n",
       "3                159  1.564198e+09\n",
       "4                159  1.564198e+09\n",
       "...              ...           ...\n",
       "45471726        6172  1.566944e+12\n",
       "45471727        6173  1.567172e+12\n",
       "45471728        6174  1.567141e+12\n",
       "45471729        6174  1.567207e+12\n",
       "45471730        6174  1.567210e+12\n",
       "\n",
       "[45471731 rows x 2 columns]"
      ]
     },
     "execution_count": 3,
     "metadata": {},
     "output_type": "execute_result"
    }
   ],
   "source": [
    "test=pd.read_csv(outpath+'/merged.csv',usecols=['IMEIorMEID','FIX_TIME'])\n",
    "test"
   ]
  },
  {
   "cell_type": "code",
   "execution_count": 4,
   "metadata": {
    "ExecuteTime": {
     "end_time": "2021-02-10T08:34:54.058053Z",
     "start_time": "2021-02-10T08:34:43.060283Z"
    }
   },
   "outputs": [],
   "source": [
    "test=tu.calDate(test,timeindex='FIX_TIME',unit='ms',calList=['year','month','day'])"
   ]
  },
  {
   "cell_type": "code",
   "execution_count": 5,
   "metadata": {
    "ExecuteTime": {
     "end_time": "2021-02-10T08:34:59.671539Z",
     "start_time": "2021-02-10T08:34:54.101937Z"
    }
   },
   "outputs": [
    {
     "data": {
      "text/html": [
       "<div>\n",
       "<style scoped>\n",
       "    .dataframe tbody tr th:only-of-type {\n",
       "        vertical-align: middle;\n",
       "    }\n",
       "\n",
       "    .dataframe tbody tr th {\n",
       "        vertical-align: top;\n",
       "    }\n",
       "\n",
       "    .dataframe thead th {\n",
       "        text-align: right;\n",
       "    }\n",
       "</style>\n",
       "<table border=\"1\" class=\"dataframe\">\n",
       "  <thead>\n",
       "    <tr style=\"text-align: right;\">\n",
       "      <th></th>\n",
       "      <th></th>\n",
       "      <th>IMEIorMEID</th>\n",
       "      <th>FIX_TIME</th>\n",
       "      <th>day</th>\n",
       "    </tr>\n",
       "    <tr>\n",
       "      <th>year</th>\n",
       "      <th>month</th>\n",
       "      <th></th>\n",
       "      <th></th>\n",
       "      <th></th>\n",
       "    </tr>\n",
       "  </thead>\n",
       "  <tbody>\n",
       "    <tr>\n",
       "      <th>1970.0</th>\n",
       "      <th>1.0</th>\n",
       "      <td>130873</td>\n",
       "      <td>130873</td>\n",
       "      <td>130873</td>\n",
       "    </tr>\n",
       "    <tr>\n",
       "      <th>1999.0</th>\n",
       "      <th>12.0</th>\n",
       "      <td>24144</td>\n",
       "      <td>24144</td>\n",
       "      <td>24144</td>\n",
       "    </tr>\n",
       "    <tr>\n",
       "      <th rowspan=\"2\" valign=\"top\">2000.0</th>\n",
       "      <th>1.0</th>\n",
       "      <td>21335</td>\n",
       "      <td>21335</td>\n",
       "      <td>21335</td>\n",
       "    </tr>\n",
       "    <tr>\n",
       "      <th>12.0</th>\n",
       "      <td>89</td>\n",
       "      <td>89</td>\n",
       "      <td>89</td>\n",
       "    </tr>\n",
       "    <tr>\n",
       "      <th>2001.0</th>\n",
       "      <th>1.0</th>\n",
       "      <td>3</td>\n",
       "      <td>3</td>\n",
       "      <td>3</td>\n",
       "    </tr>\n",
       "    <tr>\n",
       "      <th rowspan=\"3\" valign=\"top\">2018.0</th>\n",
       "      <th>8.0</th>\n",
       "      <td>11</td>\n",
       "      <td>11</td>\n",
       "      <td>11</td>\n",
       "    </tr>\n",
       "    <tr>\n",
       "      <th>11.0</th>\n",
       "      <td>441</td>\n",
       "      <td>441</td>\n",
       "      <td>441</td>\n",
       "    </tr>\n",
       "    <tr>\n",
       "      <th>12.0</th>\n",
       "      <td>1015</td>\n",
       "      <td>1015</td>\n",
       "      <td>1015</td>\n",
       "    </tr>\n",
       "    <tr>\n",
       "      <th rowspan=\"11\" valign=\"top\">2019.0</th>\n",
       "      <th>1.0</th>\n",
       "      <td>3642</td>\n",
       "      <td>3642</td>\n",
       "      <td>3642</td>\n",
       "    </tr>\n",
       "    <tr>\n",
       "      <th>2.0</th>\n",
       "      <td>7744</td>\n",
       "      <td>7744</td>\n",
       "      <td>7744</td>\n",
       "    </tr>\n",
       "    <tr>\n",
       "      <th>3.0</th>\n",
       "      <td>25492</td>\n",
       "      <td>25492</td>\n",
       "      <td>25492</td>\n",
       "    </tr>\n",
       "    <tr>\n",
       "      <th>4.0</th>\n",
       "      <td>43849</td>\n",
       "      <td>43849</td>\n",
       "      <td>43849</td>\n",
       "    </tr>\n",
       "    <tr>\n",
       "      <th>5.0</th>\n",
       "      <td>133410</td>\n",
       "      <td>133410</td>\n",
       "      <td>133410</td>\n",
       "    </tr>\n",
       "    <tr>\n",
       "      <th>6.0</th>\n",
       "      <td>518410</td>\n",
       "      <td>518410</td>\n",
       "      <td>518410</td>\n",
       "    </tr>\n",
       "    <tr>\n",
       "      <th>7.0</th>\n",
       "      <td>12384161</td>\n",
       "      <td>12384161</td>\n",
       "      <td>12384161</td>\n",
       "    </tr>\n",
       "    <tr>\n",
       "      <th>8.0</th>\n",
       "      <td>32091836</td>\n",
       "      <td>32091836</td>\n",
       "      <td>32091836</td>\n",
       "    </tr>\n",
       "    <tr>\n",
       "      <th>9.0</th>\n",
       "      <td>82937</td>\n",
       "      <td>82937</td>\n",
       "      <td>82937</td>\n",
       "    </tr>\n",
       "    <tr>\n",
       "      <th>11.0</th>\n",
       "      <td>8</td>\n",
       "      <td>8</td>\n",
       "      <td>8</td>\n",
       "    </tr>\n",
       "    <tr>\n",
       "      <th>12.0</th>\n",
       "      <td>2</td>\n",
       "      <td>2</td>\n",
       "      <td>2</td>\n",
       "    </tr>\n",
       "    <tr>\n",
       "      <th rowspan=\"4\" valign=\"top\">2020.0</th>\n",
       "      <th>3.0</th>\n",
       "      <td>7</td>\n",
       "      <td>7</td>\n",
       "      <td>7</td>\n",
       "    </tr>\n",
       "    <tr>\n",
       "      <th>5.0</th>\n",
       "      <td>2</td>\n",
       "      <td>2</td>\n",
       "      <td>2</td>\n",
       "    </tr>\n",
       "    <tr>\n",
       "      <th>7.0</th>\n",
       "      <td>2</td>\n",
       "      <td>2</td>\n",
       "      <td>2</td>\n",
       "    </tr>\n",
       "    <tr>\n",
       "      <th>12.0</th>\n",
       "      <td>1</td>\n",
       "      <td>1</td>\n",
       "      <td>1</td>\n",
       "    </tr>\n",
       "    <tr>\n",
       "      <th>2021.0</th>\n",
       "      <th>12.0</th>\n",
       "      <td>2</td>\n",
       "      <td>2</td>\n",
       "      <td>2</td>\n",
       "    </tr>\n",
       "    <tr>\n",
       "      <th>2022.0</th>\n",
       "      <th>3.0</th>\n",
       "      <td>1</td>\n",
       "      <td>1</td>\n",
       "      <td>1</td>\n",
       "    </tr>\n",
       "    <tr>\n",
       "      <th>2033.0</th>\n",
       "      <th>9.0</th>\n",
       "      <td>1</td>\n",
       "      <td>1</td>\n",
       "      <td>1</td>\n",
       "    </tr>\n",
       "    <tr>\n",
       "      <th>2037.0</th>\n",
       "      <th>8.0</th>\n",
       "      <td>1</td>\n",
       "      <td>1</td>\n",
       "      <td>1</td>\n",
       "    </tr>\n",
       "  </tbody>\n",
       "</table>\n",
       "</div>"
      ],
      "text/plain": [
       "              IMEIorMEID  FIX_TIME       day\n",
       "year   month                                \n",
       "1970.0 1.0        130873    130873    130873\n",
       "1999.0 12.0        24144     24144     24144\n",
       "2000.0 1.0         21335     21335     21335\n",
       "       12.0           89        89        89\n",
       "2001.0 1.0             3         3         3\n",
       "2018.0 8.0            11        11        11\n",
       "       11.0          441       441       441\n",
       "       12.0         1015      1015      1015\n",
       "2019.0 1.0          3642      3642      3642\n",
       "       2.0          7744      7744      7744\n",
       "       3.0         25492     25492     25492\n",
       "       4.0         43849     43849     43849\n",
       "       5.0        133410    133410    133410\n",
       "       6.0        518410    518410    518410\n",
       "       7.0      12384161  12384161  12384161\n",
       "       8.0      32091836  32091836  32091836\n",
       "       9.0         82937     82937     82937\n",
       "       11.0            8         8         8\n",
       "       12.0            2         2         2\n",
       "2020.0 3.0             7         7         7\n",
       "       5.0             2         2         2\n",
       "       7.0             2         2         2\n",
       "       12.0            1         1         1\n",
       "2021.0 12.0            2         2         2\n",
       "2022.0 3.0             1         1         1\n",
       "2033.0 9.0             1         1         1\n",
       "2037.0 8.0             1         1         1"
      ]
     },
     "execution_count": 5,
     "metadata": {},
     "output_type": "execute_result"
    }
   ],
   "source": [
    "test.groupby(['year','month']).count()"
   ]
  },
  {
   "cell_type": "markdown",
   "metadata": {},
   "source": [
    "# 时间戳正确性"
   ]
  },
  {
   "cell_type": "code",
   "execution_count": 19,
   "metadata": {
    "ExecuteTime": {
     "end_time": "2021-03-02T03:34:09.601167Z",
     "start_time": "2021-03-02T03:34:09.596183Z"
    }
   },
   "outputs": [],
   "source": [
    "def check_if_dir(file_path):\n",
    "    temp_list = os.listdir(file_path)\n",
    "    if temp_list and os.path.isfile(file_path + '/' + temp_list[0]): \n",
    "        for temp_list_each in temp_list:\n",
    "            temp_path = file_path + '/' + temp_list_each\n",
    "            if os.path.splitext(temp_path)[-1] == '.csv':\n",
    "                path_read.append(temp_path)\n",
    "            else:\n",
    "                continue\n",
    "    else:\n",
    "        for temp_list_each in temp_list:\n",
    "            check_if_dir(file_path + '/' + temp_list_each)"
   ]
  },
  {
   "cell_type": "code",
   "execution_count": 24,
   "metadata": {
    "ExecuteTime": {
     "end_time": "2021-03-02T03:36:19.830854Z",
     "start_time": "2021-03-02T03:36:19.825867Z"
    }
   },
   "outputs": [],
   "source": [
    "def myMerge(path,outpath,fname):\n",
    "    if path_read:\n",
    "        path_read.clear()\n",
    "    check_if_dir(path)\n",
    "    for idx,filepath in enumerate(path_read):\n",
    "        tmp=pd.read_csv(filepath)\n",
    "        if idx==0:\n",
    "            tmp.to_csv(outpath+'/%s_merged.csv'%fname,index=0)\n",
    "        else:\n",
    "            tmp.to_csv(outpath+'/%s_merged.csv'%fname,index=0,mode='a',header=None)"
   ]
  },
  {
   "cell_type": "code",
   "execution_count": 21,
   "metadata": {
    "ExecuteTime": {
     "end_time": "2021-03-02T03:35:00.767148Z",
     "start_time": "2021-03-02T03:35:00.763159Z"
    }
   },
   "outputs": [],
   "source": [
    "flist=tu.getFileNames('../../data/wuhan/WH_GPS/WH-201908/')"
   ]
  },
  {
   "cell_type": "code",
   "execution_count": 28,
   "metadata": {
    "ExecuteTime": {
     "end_time": "2021-03-02T04:08:02.812419Z",
     "start_time": "2021-03-02T03:46:27.168080Z"
    }
   },
   "outputs": [],
   "source": [
    "for f in flist:\n",
    "    myMerge(f,tu.pathCheck('../../output/tmp/时间戳问题排查/step1/'),f.split('/')[-1])"
   ]
  },
  {
   "cell_type": "code",
   "execution_count": 40,
   "metadata": {
    "ExecuteTime": {
     "end_time": "2021-03-02T04:22:55.020840Z",
     "start_time": "2021-03-02T04:22:55.015854Z"
    }
   },
   "outputs": [],
   "source": [
    "def myMerge1(path,outpath):\n",
    "    path_read=tu.getFileNames(path)\n",
    "    for f1 in path_read:\n",
    "        tmp=pd.read_csv(f1)\n",
    "        fname=f1.split('/')[-1].split('_')[0]+'.csv'\n",
    "        opath=outpath+fname\n",
    "        if not os.path.exists(opath):\n",
    "            tmp.to_csv(opath,index=0)\n",
    "        else:\n",
    "            tmp.to_csv(opath,index=0,mode='a',header=None)"
   ]
  },
  {
   "cell_type": "code",
   "execution_count": 41,
   "metadata": {
    "ExecuteTime": {
     "end_time": "2021-03-02T04:28:51.911167Z",
     "start_time": "2021-03-02T04:22:56.828009Z"
    },
    "scrolled": true
   },
   "outputs": [
    {
     "name": "stderr",
     "output_type": "stream",
     "text": [
      "D:\\progaramData\\anaconda\\envs\\tra\\lib\\site-packages\\IPython\\core\\interactiveshell.py:3338: DtypeWarning: Columns (3) have mixed types.Specify dtype option on import or set low_memory=False.\n",
      "  if (await self.run_code(code, result,  async_=asy)):\n"
     ]
    }
   ],
   "source": [
    "myMerge1('../../output/tmp/时间戳问题排查/step1/','../../output/tmp/时间戳问题排查/step2/')"
   ]
  },
  {
   "cell_type": "code",
   "execution_count": 57,
   "metadata": {
    "ExecuteTime": {
     "end_time": "2021-03-02T04:42:20.818712Z",
     "start_time": "2021-03-02T04:41:13.849739Z"
    },
    "scrolled": false
   },
   "outputs": [
    {
     "name": "stderr",
     "output_type": "stream",
     "text": [
      "  0%|                                                 | 0/38 [00:00<?, ?it/s]D:\\progaramData\\anaconda\\envs\\tra\\lib\\site-packages\\IPython\\core\\interactiveshell.py:3147: DtypeWarning: Columns (3) have mixed types.Specify dtype option on import or set low_memory=False.\n",
      "  interactivity=interactivity, compiler=compiler, result=result)\n",
      "  3%|█                                        | 1/38 [00:00<00:23,  1.55it/s]D:\\progaramData\\anaconda\\envs\\tra\\lib\\site-packages\\IPython\\core\\interactiveshell.py:3147: DtypeWarning: Columns (3) have mixed types.Specify dtype option on import or set low_memory=False.\n",
      "  interactivity=interactivity, compiler=compiler, result=result)\n",
      "  5%|██▏                                      | 2/38 [00:02<00:53,  1.49s/it]D:\\progaramData\\anaconda\\envs\\tra\\lib\\site-packages\\IPython\\core\\interactiveshell.py:3147: DtypeWarning: Columns (3) have mixed types.Specify dtype option on import or set low_memory=False.\n",
      "  interactivity=interactivity, compiler=compiler, result=result)\n",
      "  8%|███▏                                     | 3/38 [00:04<01:02,  1.79s/it]D:\\progaramData\\anaconda\\envs\\tra\\lib\\site-packages\\IPython\\core\\interactiveshell.py:3147: DtypeWarning: Columns (3) have mixed types.Specify dtype option on import or set low_memory=False.\n",
      "  interactivity=interactivity, compiler=compiler, result=result)\n",
      " 11%|████▎                                    | 4/38 [00:06<01:00,  1.79s/it]D:\\progaramData\\anaconda\\envs\\tra\\lib\\site-packages\\IPython\\core\\interactiveshell.py:3147: DtypeWarning: Columns (3) have mixed types.Specify dtype option on import or set low_memory=False.\n",
      "  interactivity=interactivity, compiler=compiler, result=result)\n",
      " 13%|█████▍                                   | 5/38 [00:08<01:00,  1.84s/it]D:\\progaramData\\anaconda\\envs\\tra\\lib\\site-packages\\IPython\\core\\interactiveshell.py:3147: DtypeWarning: Columns (3) have mixed types.Specify dtype option on import or set low_memory=False.\n",
      "  interactivity=interactivity, compiler=compiler, result=result)\n",
      " 16%|██████▍                                  | 6/38 [00:10<01:00,  1.90s/it]D:\\progaramData\\anaconda\\envs\\tra\\lib\\site-packages\\IPython\\core\\interactiveshell.py:3147: DtypeWarning: Columns (3) have mixed types.Specify dtype option on import or set low_memory=False.\n",
      "  interactivity=interactivity, compiler=compiler, result=result)\n",
      " 18%|███████▌                                 | 7/38 [00:12<00:58,  1.90s/it]D:\\progaramData\\anaconda\\envs\\tra\\lib\\site-packages\\IPython\\core\\interactiveshell.py:3147: DtypeWarning: Columns (3) have mixed types.Specify dtype option on import or set low_memory=False.\n",
      "  interactivity=interactivity, compiler=compiler, result=result)\n",
      " 21%|████████▋                                | 8/38 [00:14<00:57,  1.92s/it]D:\\progaramData\\anaconda\\envs\\tra\\lib\\site-packages\\IPython\\core\\interactiveshell.py:3147: DtypeWarning: Columns (3) have mixed types.Specify dtype option on import or set low_memory=False.\n",
      "  interactivity=interactivity, compiler=compiler, result=result)\n",
      " 24%|█████████▋                               | 9/38 [00:16<00:58,  2.01s/it]D:\\progaramData\\anaconda\\envs\\tra\\lib\\site-packages\\IPython\\core\\interactiveshell.py:3147: DtypeWarning: Columns (3) have mixed types.Specify dtype option on import or set low_memory=False.\n",
      "  interactivity=interactivity, compiler=compiler, result=result)\n",
      " 26%|██████████▌                             | 10/38 [00:18<00:54,  1.96s/it]D:\\progaramData\\anaconda\\envs\\tra\\lib\\site-packages\\IPython\\core\\interactiveshell.py:3147: DtypeWarning: Columns (3) have mixed types.Specify dtype option on import or set low_memory=False.\n",
      "  interactivity=interactivity, compiler=compiler, result=result)\n",
      " 29%|███████████▌                            | 11/38 [00:20<00:51,  1.92s/it]D:\\progaramData\\anaconda\\envs\\tra\\lib\\site-packages\\IPython\\core\\interactiveshell.py:3147: DtypeWarning: Columns (3) have mixed types.Specify dtype option on import or set low_memory=False.\n",
      "  interactivity=interactivity, compiler=compiler, result=result)\n",
      " 32%|████████████▋                           | 12/38 [00:22<00:49,  1.91s/it]D:\\progaramData\\anaconda\\envs\\tra\\lib\\site-packages\\IPython\\core\\interactiveshell.py:3147: DtypeWarning: Columns (3) have mixed types.Specify dtype option on import or set low_memory=False.\n",
      "  interactivity=interactivity, compiler=compiler, result=result)\n",
      " 34%|█████████████▋                          | 13/38 [00:23<00:45,  1.81s/it]D:\\progaramData\\anaconda\\envs\\tra\\lib\\site-packages\\IPython\\core\\interactiveshell.py:3147: DtypeWarning: Columns (3) have mixed types.Specify dtype option on import or set low_memory=False.\n",
      "  interactivity=interactivity, compiler=compiler, result=result)\n",
      " 37%|██████████████▋                         | 14/38 [00:25<00:40,  1.68s/it]D:\\progaramData\\anaconda\\envs\\tra\\lib\\site-packages\\IPython\\core\\interactiveshell.py:3147: DtypeWarning: Columns (3) have mixed types.Specify dtype option on import or set low_memory=False.\n",
      "  interactivity=interactivity, compiler=compiler, result=result)\n",
      " 39%|███████████████▊                        | 15/38 [00:27<00:40,  1.74s/it]D:\\progaramData\\anaconda\\envs\\tra\\lib\\site-packages\\IPython\\core\\interactiveshell.py:3147: DtypeWarning: Columns (3) have mixed types.Specify dtype option on import or set low_memory=False.\n",
      "  interactivity=interactivity, compiler=compiler, result=result)\n",
      " 42%|████████████████▊                       | 16/38 [00:29<00:39,  1.80s/it]D:\\progaramData\\anaconda\\envs\\tra\\lib\\site-packages\\IPython\\core\\interactiveshell.py:3147: DtypeWarning: Columns (3) have mixed types.Specify dtype option on import or set low_memory=False.\n",
      "  interactivity=interactivity, compiler=compiler, result=result)\n",
      " 45%|█████████████████▉                      | 17/38 [00:30<00:37,  1.81s/it]D:\\progaramData\\anaconda\\envs\\tra\\lib\\site-packages\\IPython\\core\\interactiveshell.py:3147: DtypeWarning: Columns (3) have mixed types.Specify dtype option on import or set low_memory=False.\n",
      "  interactivity=interactivity, compiler=compiler, result=result)\n",
      " 47%|██████████████████▉                     | 18/38 [00:32<00:33,  1.70s/it]D:\\progaramData\\anaconda\\envs\\tra\\lib\\site-packages\\IPython\\core\\interactiveshell.py:3147: DtypeWarning: Columns (3) have mixed types.Specify dtype option on import or set low_memory=False.\n",
      "  interactivity=interactivity, compiler=compiler, result=result)\n",
      " 50%|████████████████████                    | 19/38 [00:34<00:32,  1.71s/it]D:\\progaramData\\anaconda\\envs\\tra\\lib\\site-packages\\IPython\\core\\interactiveshell.py:3147: DtypeWarning: Columns (3) have mixed types.Specify dtype option on import or set low_memory=False.\n",
      "  interactivity=interactivity, compiler=compiler, result=result)\n",
      " 53%|█████████████████████                   | 20/38 [00:35<00:31,  1.76s/it]D:\\progaramData\\anaconda\\envs\\tra\\lib\\site-packages\\IPython\\core\\interactiveshell.py:3147: DtypeWarning: Columns (3) have mixed types.Specify dtype option on import or set low_memory=False.\n",
      "  interactivity=interactivity, compiler=compiler, result=result)\n",
      " 55%|██████████████████████                  | 21/38 [00:37<00:30,  1.77s/it]D:\\progaramData\\anaconda\\envs\\tra\\lib\\site-packages\\IPython\\core\\interactiveshell.py:3147: DtypeWarning: Columns (3) have mixed types.Specify dtype option on import or set low_memory=False.\n",
      "  interactivity=interactivity, compiler=compiler, result=result)\n",
      " 58%|███████████████████████▏                | 22/38 [00:39<00:27,  1.74s/it]D:\\progaramData\\anaconda\\envs\\tra\\lib\\site-packages\\IPython\\core\\interactiveshell.py:3147: DtypeWarning: Columns (3) have mixed types.Specify dtype option on import or set low_memory=False.\n",
      "  interactivity=interactivity, compiler=compiler, result=result)\n",
      " 61%|████████████████████████▏               | 23/38 [00:41<00:26,  1.78s/it]D:\\progaramData\\anaconda\\envs\\tra\\lib\\site-packages\\IPython\\core\\interactiveshell.py:3147: DtypeWarning: Columns (3) have mixed types.Specify dtype option on import or set low_memory=False.\n",
      "  interactivity=interactivity, compiler=compiler, result=result)\n",
      " 63%|█████████████████████████▎              | 24/38 [00:42<00:24,  1.76s/it]D:\\progaramData\\anaconda\\envs\\tra\\lib\\site-packages\\IPython\\core\\interactiveshell.py:3147: DtypeWarning: Columns (3) have mixed types.Specify dtype option on import or set low_memory=False.\n",
      "  interactivity=interactivity, compiler=compiler, result=result)\n"
     ]
    },
    {
     "name": "stderr",
     "output_type": "stream",
     "text": [
      " 66%|██████████████████████████▎             | 25/38 [00:44<00:22,  1.75s/it]D:\\progaramData\\anaconda\\envs\\tra\\lib\\site-packages\\IPython\\core\\interactiveshell.py:3147: DtypeWarning: Columns (3) have mixed types.Specify dtype option on import or set low_memory=False.\n",
      "  interactivity=interactivity, compiler=compiler, result=result)\n",
      " 68%|███████████████████████████▎            | 26/38 [00:46<00:20,  1.74s/it]D:\\progaramData\\anaconda\\envs\\tra\\lib\\site-packages\\IPython\\core\\interactiveshell.py:3147: DtypeWarning: Columns (3) have mixed types.Specify dtype option on import or set low_memory=False.\n",
      "  interactivity=interactivity, compiler=compiler, result=result)\n",
      " 71%|████████████████████████████▍           | 27/38 [00:48<00:19,  1.74s/it]D:\\progaramData\\anaconda\\envs\\tra\\lib\\site-packages\\IPython\\core\\interactiveshell.py:3147: DtypeWarning: Columns (3) have mixed types.Specify dtype option on import or set low_memory=False.\n",
      "  interactivity=interactivity, compiler=compiler, result=result)\n",
      " 74%|█████████████████████████████▍          | 28/38 [00:48<00:14,  1.44s/it]D:\\progaramData\\anaconda\\envs\\tra\\lib\\site-packages\\IPython\\core\\interactiveshell.py:3147: DtypeWarning: Columns (3) have mixed types.Specify dtype option on import or set low_memory=False.\n",
      "  interactivity=interactivity, compiler=compiler, result=result)\n",
      " 76%|██████████████████████████████▌         | 29/38 [00:50<00:13,  1.51s/it]D:\\progaramData\\anaconda\\envs\\tra\\lib\\site-packages\\IPython\\core\\interactiveshell.py:3147: DtypeWarning: Columns (3) have mixed types.Specify dtype option on import or set low_memory=False.\n",
      "  interactivity=interactivity, compiler=compiler, result=result)\n",
      " 79%|███████████████████████████████▌        | 30/38 [00:52<00:12,  1.55s/it]D:\\progaramData\\anaconda\\envs\\tra\\lib\\site-packages\\IPython\\core\\interactiveshell.py:3147: DtypeWarning: Columns (3) have mixed types.Specify dtype option on import or set low_memory=False.\n",
      "  interactivity=interactivity, compiler=compiler, result=result)\n",
      " 82%|████████████████████████████████▋       | 31/38 [00:53<00:11,  1.61s/it]D:\\progaramData\\anaconda\\envs\\tra\\lib\\site-packages\\IPython\\core\\interactiveshell.py:3147: DtypeWarning: Columns (3) have mixed types.Specify dtype option on import or set low_memory=False.\n",
      "  interactivity=interactivity, compiler=compiler, result=result)\n",
      " 84%|█████████████████████████████████▋      | 32/38 [00:55<00:10,  1.70s/it]D:\\progaramData\\anaconda\\envs\\tra\\lib\\site-packages\\IPython\\core\\interactiveshell.py:3147: DtypeWarning: Columns (3) have mixed types.Specify dtype option on import or set low_memory=False.\n",
      "  interactivity=interactivity, compiler=compiler, result=result)\n",
      " 89%|███████████████████████████████████▊    | 34/38 [00:59<00:06,  1.67s/it]D:\\progaramData\\anaconda\\envs\\tra\\lib\\site-packages\\IPython\\core\\interactiveshell.py:3147: DtypeWarning: Columns (3) have mixed types.Specify dtype option on import or set low_memory=False.\n",
      "  interactivity=interactivity, compiler=compiler, result=result)\n",
      " 92%|████████████████████████████████████▊   | 35/38 [01:01<00:05,  1.78s/it]D:\\progaramData\\anaconda\\envs\\tra\\lib\\site-packages\\IPython\\core\\interactiveshell.py:3147: DtypeWarning: Columns (3) have mixed types.Specify dtype option on import or set low_memory=False.\n",
      "  interactivity=interactivity, compiler=compiler, result=result)\n",
      " 95%|█████████████████████████████████████▉  | 36/38 [01:03<00:03,  1.82s/it]D:\\progaramData\\anaconda\\envs\\tra\\lib\\site-packages\\IPython\\core\\interactiveshell.py:3147: DtypeWarning: Columns (3) have mixed types.Specify dtype option on import or set low_memory=False.\n",
      "  interactivity=interactivity, compiler=compiler, result=result)\n",
      " 97%|██████████████████████████████████████▉ | 37/38 [01:05<00:01,  1.84s/it]D:\\progaramData\\anaconda\\envs\\tra\\lib\\site-packages\\IPython\\core\\interactiveshell.py:3147: DtypeWarning: Columns (3) have mixed types.Specify dtype option on import or set low_memory=False.\n",
      "  interactivity=interactivity, compiler=compiler, result=result)\n",
      "100%|████████████████████████████████████████| 38/38 [01:06<00:00,  1.76s/it]\n"
     ]
    }
   ],
   "source": [
    "flist2=tu.getFileNames('../../output/tmp/时间戳问题排查/step2/')\n",
    "ANS=[]\n",
    "for f2 in tqdm(flist2):\n",
    "    fdate=f2.split('/')[-1].split('.')[0]\n",
    "    fmonth=int(fdate.split('-')[1])\n",
    "    fday=int(fdate.split('-')[2])\n",
    "    data=pd.read_csv(f2)\n",
    "    data=tu.calDate(data,timeindex='FIX_TIME',unit='ms',calList=['month','day'])\n",
    "    sum1=len(data)\n",
    "    sum2=len(data[(data.month==fmonth)&(data.day==fday)])\n",
    "    tmp=[fdate,sum1,sum2]\n",
    "    ANS.append(tmp)"
   ]
  },
  {
   "cell_type": "code",
   "execution_count": 59,
   "metadata": {
    "ExecuteTime": {
     "end_time": "2021-03-02T06:10:51.105864Z",
     "start_time": "2021-03-02T06:10:51.099881Z"
    }
   },
   "outputs": [
    {
     "data": {
      "text/plain": [
       "[['2019-07-30', 426702, 106],\n",
       " ['2019-07-31', 1331876, 2096],\n",
       " ['2019-08-01', 1349045, 2211],\n",
       " ['2019-08-02', 1206775, 2318],\n",
       " ['2019-08-03', 1355242, 2352],\n",
       " ['2019-08-04', 1361739, 1276],\n",
       " ['2019-08-05', 1255911, 1525],\n",
       " ['2019-08-06', 1335105, 2114],\n",
       " ['2019-08-07', 1520234, 1879],\n",
       " ['2019-08-08', 1198543, 885],\n",
       " ['2019-08-09', 1229471, 628],\n",
       " ['2019-08-10', 1208576, 572],\n",
       " ['2019-08-11', 1064962, 589],\n",
       " ['2019-08-12', 922962, 268],\n",
       " ['2019-08-13', 1289667, 1674],\n",
       " ['2019-08-14', 1315902, 1643],\n",
       " ['2019-08-15', 1184830, 1443],\n",
       " ['2019-08-16', 963287, 8215],\n",
       " ['2019-08-17', 1233277, 758],\n",
       " ['2019-08-18', 1284475, 1470],\n",
       " ['2019-08-19', 1206429, 10177],\n",
       " ['2019-08-20', 1182755, 1315],\n",
       " ['2019-08-21', 1266890, 1102],\n",
       " ['2019-08-22', 1221199, 670],\n",
       " ['2019-08-23', 1150888, 1599],\n",
       " ['2019-08-24', 1192853, 1058],\n",
       " ['2019-08-25', 1205961, 1300],\n",
       " ['2019-08-26', 497655, 186],\n",
       " ['2019-08-27', 1102688, 1001],\n",
       " ['2019-08-28', 1096238, 41398],\n",
       " ['2019-08-29', 1194772, 1363],\n",
       " ['2019-08-30', 1284385, 1501],\n",
       " ['2019-08-31', 1242270, 153],\n",
       " ['2019-09-01', 1249709, 0],\n",
       " ['2019-09-02', 1418535, 10],\n",
       " ['2019-09-03', 1279518, 832],\n",
       " ['2019-09-04', 1306368, 237],\n",
       " ['2019-09-05', 1334037, 2006]]"
      ]
     },
     "execution_count": 59,
     "metadata": {},
     "output_type": "execute_result"
    }
   ],
   "source": [
    "ANS"
   ]
  },
  {
   "cell_type": "code",
   "execution_count": 66,
   "metadata": {
    "ExecuteTime": {
     "end_time": "2021-03-02T06:13:57.248901Z",
     "start_time": "2021-03-02T06:13:57.243915Z"
    }
   },
   "outputs": [],
   "source": [
    "pd.DataFrame(ANS,columns=['文件日期','数据量','匹配数据量']).to_csv('../../output/tmp/时间戳问题排查/分析结果1.csv')"
   ]
  },
  {
   "cell_type": "code",
   "execution_count": 76,
   "metadata": {
    "ExecuteTime": {
     "end_time": "2021-03-02T06:37:52.376380Z",
     "start_time": "2021-03-02T06:36:36.642360Z"
    },
    "scrolled": true
   },
   "outputs": [
    {
     "name": "stderr",
     "output_type": "stream",
     "text": [
      "  0%|                                                 | 0/38 [00:00<?, ?it/s]D:\\progaramData\\anaconda\\envs\\tra\\lib\\site-packages\\IPython\\core\\interactiveshell.py:3147: DtypeWarning: Columns (3) have mixed types.Specify dtype option on import or set low_memory=False.\n",
      "  interactivity=interactivity, compiler=compiler, result=result)\n",
      "100%|████████████████████████████████████████| 38/38 [01:15<00:00,  1.99s/it]\n"
     ]
    }
   ],
   "source": [
    "flist2=tu.getFileNames('../../output/tmp/时间戳问题排查/step2/')\n",
    "for f2 in tqdm(flist2):\n",
    "    fdate=f2.split('/')[-1].split('.')[0]\n",
    "    fmonth=int(fdate.split('-')[1])\n",
    "    fday=int(fdate.split('-')[2])\n",
    "    data=pd.read_csv(f2)\n",
    "    data=tu.calDate(data,timeindex='FIX_TIME',unit='ms',calList=['month','day'])\n",
    "    tmp=data.groupby(['month','day']).IMEIorMEID.count()\n",
    "    tmp.sort_values(ascending=False).to_csv(tu.pathCheck('../../output/tmp/时间戳问题排查/分析结果2/')+'%s.csv'%fdate)"
   ]
  }
 ],
 "metadata": {
  "kernelspec": {
   "display_name": "tra",
   "language": "python",
   "name": "tra"
  },
  "language_info": {
   "codemirror_mode": {
    "name": "ipython",
    "version": 3
   },
   "file_extension": ".py",
   "mimetype": "text/x-python",
   "name": "python",
   "nbconvert_exporter": "python",
   "pygments_lexer": "ipython3",
   "version": "3.7.9"
  },
  "toc": {
   "base_numbering": 1,
   "nav_menu": {},
   "number_sections": true,
   "sideBar": true,
   "skip_h1_title": false,
   "title_cell": "Table of Contents",
   "title_sidebar": "Contents",
   "toc_cell": false,
   "toc_position": {},
   "toc_section_display": true,
   "toc_window_display": false
  },
  "varInspector": {
   "cols": {
    "lenName": 16,
    "lenType": 16,
    "lenVar": 40
   },
   "kernels_config": {
    "python": {
     "delete_cmd_postfix": "",
     "delete_cmd_prefix": "del ",
     "library": "var_list.py",
     "varRefreshCmd": "print(var_dic_list())"
    },
    "r": {
     "delete_cmd_postfix": ") ",
     "delete_cmd_prefix": "rm(",
     "library": "var_list.r",
     "varRefreshCmd": "cat(var_dic_list()) "
    }
   },
   "types_to_exclude": [
    "module",
    "function",
    "builtin_function_or_method",
    "instance",
    "_Feature"
   ],
   "window_display": false
  }
 },
 "nbformat": 4,
 "nbformat_minor": 4
}
