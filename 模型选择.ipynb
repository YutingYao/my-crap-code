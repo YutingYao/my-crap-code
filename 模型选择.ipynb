{
 "cells": [
  {
   "cell_type": "code",
   "execution_count": 2,
   "metadata": {
    "ExecuteTime": {
     "end_time": "2021-04-04T03:41:26.402899Z",
     "start_time": "2021-04-04T03:41:24.938808Z"
    }
   },
   "outputs": [],
   "source": [
    "# This is lzl's snippet for diploma project\n",
    "import math\n",
    "import os,shutil\n",
    "import random\n",
    "import warnings\n",
    "import gc\n",
    "\n",
    "import geopandas as gpd\n",
    "import matplotlib as mpl\n",
    "import matplotlib.pyplot as plt\n",
    "import numpy as np\n",
    "import pandas as pd\n",
    "import shapely\n",
    "import seaborn as sns\n",
    "from shapely.geometry import LineString, Point, Polygon\n",
    "from shapely.wkt import dumps, loads\n",
    "from tqdm import tqdm\n",
    "\n",
    "import traProject as tp\n",
    "from traProject.analysisFuns import statisticFuns as sfun\n",
    "from traProject.basicFuns import CalFuns as cfun,VisFuns as vfun,DataProcessingFuns as dfun\n",
    "from traProject.classificationFuns import model_feature_selection as mfs\n",
    "import traProject.utils as tu\n",
    "\n",
    "random.seed(1229)\n",
    "\n",
    "# plt.style.use('seaborn')\n",
    "plt.rcParams['font.sans-serif'] = ['SimHei']  # 用来正常显示中文标签\n",
    "plt.rcParams['axes.unicode_minus'] = False  # 用来正常显示负号\n",
    "\n",
    "warnings.filterwarnings(\"ignore\")\n",
    "\n",
    "picOut='../../output/pic/paper/'\n"
   ]
  },
  {
   "cell_type": "code",
   "execution_count": null,
   "metadata": {},
   "outputs": [],
   "source": []
  }
 ],
 "metadata": {
  "kernelspec": {
   "display_name": "tra1",
   "language": "python",
   "name": "tra1"
  },
  "language_info": {
   "codemirror_mode": {
    "name": "ipython",
    "version": 3
   },
   "file_extension": ".py",
   "mimetype": "text/x-python",
   "name": "python",
   "nbconvert_exporter": "python",
   "pygments_lexer": "ipython3",
   "version": "3.7.10"
  },
  "toc": {
   "base_numbering": 1,
   "nav_menu": {},
   "number_sections": true,
   "sideBar": true,
   "skip_h1_title": false,
   "title_cell": "Table of Contents",
   "title_sidebar": "Contents",
   "toc_cell": false,
   "toc_position": {},
   "toc_section_display": true,
   "toc_window_display": false
  },
  "varInspector": {
   "cols": {
    "lenName": 16,
    "lenType": 16,
    "lenVar": 40
   },
   "kernels_config": {
    "python": {
     "delete_cmd_postfix": "",
     "delete_cmd_prefix": "del ",
     "library": "var_list.py",
     "varRefreshCmd": "print(var_dic_list())"
    },
    "r": {
     "delete_cmd_postfix": ") ",
     "delete_cmd_prefix": "rm(",
     "library": "var_list.r",
     "varRefreshCmd": "cat(var_dic_list()) "
    }
   },
   "types_to_exclude": [
    "module",
    "function",
    "builtin_function_or_method",
    "instance",
    "_Feature"
   ],
   "window_display": false
  }
 },
 "nbformat": 4,
 "nbformat_minor": 4
}
